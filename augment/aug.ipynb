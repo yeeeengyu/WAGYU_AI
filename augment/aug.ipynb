{
 "cells": [
  {
   "cell_type": "markdown",
   "id": "02df207f",
   "metadata": {},
   "source": [
    "Mecab 사용을 위한 konlpy 라이브러리 설치"
   ]
  },
  {
   "cell_type": "code",
   "execution_count": null,
   "id": "4778e0b1",
   "metadata": {},
   "outputs": [],
   "source": [
    "%pip install konlpy"
   ]
  },
  {
   "cell_type": "markdown",
   "id": "b6cb6d1b",
   "metadata": {},
   "source": [
    "Mecab - 형태소 분석기"
   ]
  },
  {
   "cell_type": "code",
   "execution_count": null,
   "id": "2472dadf",
   "metadata": {},
   "outputs": [],
   "source": [
    "# 랜덤 스왑\n",
    "import random\n",
    "from konlpy.tag import Mecab\n",
    "def random_swap(text, n, seed = None):\n",
    "    tokens = Mecab().morphs(text)\n",
    "    if seed is not None:\n",
    "        random.seed(seed)\n",
    "    length = len(tokens)\n",
    "    for i in range(n): # 여기서 스왑할 단어 골라서\n",
    "        idx_1, idx_2 = random.sample(range(length), 2) # idx 얘네들한테 저장시키고\n",
    "        tokens[idx_1], tokens[idx_2] = tokens[idx_2], tokens[idx_1] # 스왑하는 구문인듯\n",
    "    return ' '.join(tokens)\n",
    "\n",
    "text = \"저는 데이터 증강을 공부하고 있습니다.\"\n",
    "print(random_swap(text, n = 2, seed = 42))"
   ]
  },
  {
   "cell_type": "code",
   "execution_count": null,
   "id": "c50748b3",
   "metadata": {},
   "outputs": [],
   "source": [
    "%pip install --upgrade pip\n",
    "%pip install JPype1-0.5.7-cp27-none-win_amd64.whl"
   ]
  },
  {
   "cell_type": "code",
   "execution_count": 2,
   "id": "0cf498cc",
   "metadata": {},
   "outputs": [
    {
     "name": "stdout",
     "output_type": "stream",
     "text": [
      "[('개', 'Noun'), ('가', 'Josa'), ('물', 'Noun'), ('많이', 'Adverb'), ('마시고', 'Verb'), ('게워내요', 'Verb')]\n"
     ]
    }
   ],
   "source": [
    "from konlpy.tag import Okt\n",
    "import json\n",
    "with open('통합_데이터셋.json', 'r', encoding = 'utf-8') as f:\n",
    "    data = json.load(f)\n",
    "m = Okt()\n",
    "print(m.pos(data[0]['question']))"
   ]
  },
  {
   "cell_type": "markdown",
   "id": "6c713add",
   "metadata": {},
   "source": [
    "### Mecab 안되는거같으니까 Okt로 랜덤스왑해봄"
   ]
  },
  {
   "cell_type": "code",
   "execution_count": 1,
   "id": "ad7f98ea",
   "metadata": {},
   "outputs": [
    {
     "name": "stdout",
     "output_type": "stream",
     "text": [
      "물 개 게워내요 많이 마시고 가\n"
     ]
    }
   ],
   "source": [
    "import json, random\n",
    "from konlpy.tag import Okt\n",
    "m = Okt()\n",
    "def random_swap(text, n, seed = None):\n",
    "    tokens = m.morphs(text)\n",
    "    if seed is not None:\n",
    "        random.seed(seed)\n",
    "    length = len(tokens)\n",
    "    for i in range(n): # 여기서 스왑할 단어 골라서\n",
    "        idx_1, idx_2 = random.sample(range(length), 2) # idx 얘네들한테 저장시키고\n",
    "        tokens[idx_1], tokens[idx_2] = tokens[idx_2], tokens[idx_1] # 스왑하는 구문인듯\n",
    "    return ' '.join(tokens)\n",
    "with open('통합_데이터셋.json', 'r', encoding = 'utf-8') as f:\n",
    "    text = json.load(f)\n",
    "print(random_swap(text[0]['question'], n = 3, seed = 42))"
   ]
  },
  {
   "cell_type": "markdown",
   "id": "539b348c",
   "metadata": {},
   "source": [
    "조사가 떨어지니까 의미 왜곡이 쉬울거같음\n",
    "\n",
    "앞에단어랑 붙이던가 아님걍빼던가 해야할거같은데\n",
    "\n",
    "붙일거면 앞에명사에 붙이고"
   ]
  }
 ],
 "metadata": {
  "kernelspec": {
   "display_name": "base",
   "language": "python",
   "name": "python3"
  },
  "language_info": {
   "codemirror_mode": {
    "name": "ipython",
    "version": 3
   },
   "file_extension": ".py",
   "mimetype": "text/x-python",
   "name": "python",
   "nbconvert_exporter": "python",
   "pygments_lexer": "ipython3",
   "version": "3.11.7"
  }
 },
 "nbformat": 4,
 "nbformat_minor": 5
}
